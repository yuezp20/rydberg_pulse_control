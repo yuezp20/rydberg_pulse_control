{
 "cells": [
  {
   "cell_type": "code",
   "execution_count": null,
   "metadata": {
    "collapsed": true,
    "pycharm": {
     "is_executing": true
    }
   },
   "outputs": [],
   "source": [
    "import numpy as np\n",
    "import matplotlib.pyplot as plt"
   ]
  },
  {
   "cell_type": "code",
   "execution_count": 29,
   "outputs": [
    {
     "name": "stdout",
     "output_type": "stream",
     "text": [
      "[0 0 0 0 0]\n"
     ]
    }
   ],
   "source": [
    "a = np.zeros(5, dtype='int')\n",
    "print(a)"
   ],
   "metadata": {
    "collapsed": false
   }
  },
  {
   "cell_type": "code",
   "execution_count": 30,
   "outputs": [
    {
     "name": "stdout",
     "output_type": "stream",
     "text": [
      "amp1\n"
     ]
    }
   ],
   "source": [
    "print(\"amp{}\".format(1))"
   ],
   "metadata": {
    "collapsed": false
   }
  },
  {
   "cell_type": "code",
   "execution_count": 47,
   "outputs": [
    {
     "name": "stdout",
     "output_type": "stream",
     "text": [
      "Python Version: 3.9.12 on Windows\n",
      "\n"
     ]
    }
   ],
   "source": [
    "from pyspcm import *\n",
    "\n",
    "datapoint = int64(int(MEGA(1250) * 0.4))"
   ],
   "metadata": {
    "collapsed": false
   }
  },
  {
   "cell_type": "code",
   "execution_count": 32,
   "outputs": [],
   "source": [
    "data_point = 25000\n",
    "wave_point = np.zeros(data_point, dtype='int')\n",
    "for i in range(data_point):\n",
    "    wave_point[i] = int(10000 * np.sin(MEGA(1) / MEGA(1250) * i))"
   ],
   "metadata": {
    "collapsed": false
   }
  },
  {
   "cell_type": "code",
   "execution_count": 33,
   "outputs": [
    {
     "name": "stdout",
     "output_type": "stream",
     "text": [
      "15\n"
     ]
    }
   ],
   "source": [
    "print(wave_point[2])"
   ],
   "metadata": {
    "collapsed": false
   }
  },
  {
   "cell_type": "code",
   "execution_count": 34,
   "outputs": [
    {
     "data": {
      "text/plain": "array([1, 2, 3, 4])"
     },
     "execution_count": 34,
     "metadata": {},
     "output_type": "execute_result"
    }
   ],
   "source": [
    "a = []\n",
    "b = np.array([1, 2, 3, 4])\n",
    "res = np.append(a, b)\n",
    "res.astype(int)"
   ],
   "metadata": {
    "collapsed": false
   }
  },
  {
   "cell_type": "code",
   "execution_count": 35,
   "outputs": [
    {
     "data": {
      "text/plain": "52.4288"
     },
     "execution_count": 35,
     "metadata": {},
     "output_type": "execute_result"
    }
   ],
   "source": [
    "KILO_B(64) / MEGA(1250) * 10 ** 6"
   ],
   "metadata": {
    "collapsed": false
   }
  },
  {
   "cell_type": "code",
   "execution_count": 36,
   "outputs": [
    {
     "data": {
      "text/plain": "['420', '1']"
     },
     "execution_count": 36,
     "metadata": {},
     "output_type": "execute_result"
    }
   ],
   "source": [
    "name = \"420_1\"\n",
    "name.split('_')"
   ],
   "metadata": {
    "collapsed": false
   }
  },
  {
   "cell_type": "code",
   "execution_count": 86,
   "outputs": [],
   "source": [
    "def wave_calculate(samplerate, waveform_cont_420, waveform_cont_1013):\n",
    "    amp_std = 30000\n",
    "\n",
    "    # first we compare time consume of 420 and 1013\n",
    "    wave_time_420 = 0\n",
    "    for single_wave_420 in waveform_cont_420:\n",
    "        print(single_wave_420)\n",
    "        wave_time_420 += single_wave_420.time\n",
    "        wave_time_420 += single_wave_420.wait_time\n",
    "    wave_time_1013 = 0\n",
    "    for single_wave_1013 in waveform_cont_1013:\n",
    "        print(single_wave_1013)\n",
    "        wave_time_1013 += single_wave_1013.time\n",
    "        wave_time_1013 += single_wave_1013.wait_time\n",
    "\n",
    "    wave_point_num = int(samplerate * wave_time_420 * 10 ** -6)\n",
    "    if wave_time_420 < wave_time_1013:\n",
    "        wave_point_num = int(samplerate * wave_time_1013 * 10 ** -6)\n",
    "    wave_point_420 = []\n",
    "    wave_point_1013 = []\n",
    "    # then we need to calculate each wave point according to wave_form_cont\n",
    "    for single_wave in waveform_cont_420:\n",
    "        single_wave_point = np.zeros(int(samplerate * (single_wave.time + single_wave.wait_time) * 10 ** -6),\n",
    "                                     dtype='int')\n",
    "        if single_wave.form == \"flat pulse\":\n",
    "\n",
    "            amp_ratio = single_wave.amp * 0.01\n",
    "            frequency = MEGA(single_wave.start_frequency)\n",
    "            signal_point = int(samplerate * single_wave.time * 10 ** -6)\n",
    "            wait_point = samplerate * single_wave.wait_time * 10 ** -6\n",
    "            for i in range(signal_point):\n",
    "                single_wave_point[i] = int(amp_std * amp_ratio * np.sin(2 * np.pi * frequency / samplerate * i))\n",
    "        elif single_wave.form == \"blackman pulse\":\n",
    "            pass\n",
    "        elif single_wave.form == \"ramp frequency\":\n",
    "            pass\n",
    "\n",
    "        wave_point_420 = np.append(wave_point_420, single_wave_point)\n",
    "    wave_point_420 = np.asarray(wave_point_420, dtype='int')\n",
    "    print(type(wave_point_420[0]))\n",
    "\n",
    "    for single_wave in waveform_cont_1013:\n",
    "        single_wave_point = np.zeros(int(samplerate * (single_wave.time + single_wave.wait_time) * 10 ** -6),\n",
    "                                     dtype='int')\n",
    "        if single_wave.form == \"flat pulse\":\n",
    "            amp_ratio = single_wave.amp * 0.01\n",
    "            frequency = MEGA(single_wave.start_frequency)\n",
    "            signal_point = int(samplerate * single_wave.time * 10 ** -6)\n",
    "            wait_point = samplerate * single_wave.wait_time * 10 ** -6\n",
    "            for i in range(signal_point):\n",
    "                single_wave_point[i] = int(amp_std * amp_ratio * np.sin(2 * np.pi * frequency / samplerate * i))\n",
    "        elif single_wave.form == \"blackman pulse\":\n",
    "            pass\n",
    "        elif single_wave.form == \"ramp frequency\":\n",
    "            pass\n",
    "        wave_point_1013 = np.append(wave_point_1013, single_wave_point)\n",
    "    wave_point_1013 = np.asarray(wave_point_1013, dtype='int')\n",
    "    print(type(wave_point_1013[0]))\n",
    "    if wave_time_420 > wave_time_1013:\n",
    "        wave_point_1013 = np.pad(wave_point_1013, [(0, wave_point_num - len(wave_point_1013))])\n",
    "    else:\n",
    "        wave_point_420 = np.pad(wave_point_420, [(0, wave_point_num - len(wave_point_420))])\n",
    "\n",
    "    # then we insert wave_point_1013 into wave_point_420 to construct wave_point\n",
    "    idx = tuple(range(1, wave_point_num + 1))\n",
    "    wave_point = np.insert(wave_point_420, idx, wave_point_1013)\n",
    "    print(type(wave_point[0]))\n",
    "    return wave_point, wave_point_420, wave_point_1013"
   ],
   "metadata": {
    "collapsed": false
   }
  },
  {
   "cell_type": "code",
   "execution_count": null,
   "outputs": [],
   "source": [
    "a = np.array([[1, 1], [2, 2], [3, 3]])\n",
    "b = a.flatten()\n",
    "np.insert(b, slice(2, 4), [5, 6])"
   ],
   "metadata": {
    "collapsed": false
   }
  },
  {
   "cell_type": "code",
   "execution_count": null,
   "outputs": [],
   "source": [
    "a = np.array([1, 3, 5, 7, 9])\n",
    "idx = (1, 3, 5)\n",
    "print(type(idx))\n",
    "np.insert(a, idx, [2, 4, 10])"
   ],
   "metadata": {
    "collapsed": false
   }
  },
  {
   "cell_type": "code",
   "execution_count": null,
   "outputs": [],
   "source": [
    "index = tuple(range(1, 10))\n",
    "print(type(index))\n",
    "print(index)"
   ],
   "metadata": {
    "collapsed": false
   }
  },
  {
   "cell_type": "code",
   "execution_count": null,
   "outputs": [],
   "source": [
    "a = np.arange(1, 10, 2)\n",
    "b = np.arange(2, 11, 2)\n",
    "print(len(a))\n",
    "print(len(b))\n",
    "index = tuple(range(1, len(a) + 1))"
   ],
   "metadata": {
    "collapsed": false
   }
  },
  {
   "cell_type": "code",
   "execution_count": null,
   "outputs": [],
   "source": [
    "np.insert(a, index, b)"
   ],
   "metadata": {
    "collapsed": false
   }
  },
  {
   "cell_type": "code",
   "execution_count": null,
   "outputs": [],
   "source": [
    "a = np.arange(1, 10, 2)\n",
    "b = np.arange(2, 11, 2)\n",
    "np.insert(a, (1, 2, 3, 4, 5), b)"
   ],
   "metadata": {
    "collapsed": false
   }
  },
  {
   "cell_type": "code",
   "execution_count": null,
   "outputs": [],
   "source": [
    "a = np.array([1, 2, 3])\n",
    "print(np.pad(a, [(0, 5 - len(a))]))"
   ],
   "metadata": {
    "collapsed": false
   }
  },
  {
   "cell_type": "code",
   "execution_count": 74,
   "outputs": [
    {
     "name": "stdout",
     "output_type": "stream",
     "text": [
      "[waveform(form='flat pulse', amp=100, start_frequency=1, end_frequency=1, time=10, wait_time=5), waveform(form='flat pulse', amp=100, start_frequency=1, end_frequency=1, time=5, wait_time=5)]\n",
      "[waveform(form='flat pulse', amp=50, start_frequency=2, end_frequency=2, time=7, wait_time=3), waveform(form='flat pulse', amp=75, start_frequency=2, end_frequency=2, time=5, wait_time=0)]\n"
     ]
    }
   ],
   "source": [
    "from rydberg_awg import waveform\n",
    "\n",
    "waveform1 = waveform(form=\"flat pulse\", amp=100, start_frequency=1, end_frequency=1, time=10, wait_time=5)\n",
    "waveform2 = waveform(form=\"flat pulse\", amp=100, start_frequency=1, end_frequency=1, time=5, wait_time=5)\n",
    "waveform3 = waveform(form=\"flat pulse\", amp=50, start_frequency=2, end_frequency=2, time=7, wait_time=3)\n",
    "waveform4 = waveform(form=\"flat pulse\", amp=75, start_frequency=2, end_frequency=2, time=5, wait_time=0)\n",
    "waveform_cont_420 = [waveform1, waveform2]\n",
    "waveform_cont_1013 = [waveform3, waveform4]\n",
    "print(waveform_cont_420)\n",
    "print(waveform_cont_1013)"
   ],
   "metadata": {
    "collapsed": false
   }
  },
  {
   "cell_type": "code",
   "execution_count": 87,
   "outputs": [
    {
     "name": "stdout",
     "output_type": "stream",
     "text": [
      "waveform(form='flat pulse', amp=100, start_frequency=1, end_frequency=1, time=10, wait_time=5)\n",
      "waveform(form='flat pulse', amp=100, start_frequency=1, end_frequency=1, time=5, wait_time=5)\n",
      "waveform(form='flat pulse', amp=50, start_frequency=2, end_frequency=2, time=7, wait_time=3)\n",
      "waveform(form='flat pulse', amp=75, start_frequency=2, end_frequency=2, time=5, wait_time=0)\n",
      "<class 'numpy.int32'>\n",
      "<class 'numpy.int32'>\n",
      "<class 'numpy.int32'>\n"
     ]
    }
   ],
   "source": [
    "wave_point, wave_point_420, wave_point_1013 = wave_calculate(MEGA(1250), waveform_cont_420, waveform_cont_1013)"
   ],
   "metadata": {
    "collapsed": false
   }
  },
  {
   "cell_type": "code",
   "execution_count": 76,
   "outputs": [
    {
     "data": {
      "text/plain": "[<matplotlib.lines.Line2D at 0x21c98763400>]"
     },
     "execution_count": 76,
     "metadata": {},
     "output_type": "execute_result"
    },
    {
     "data": {
      "text/plain": "<Figure size 640x480 with 1 Axes>",
      "image/png": "[encoded data removed]"
     },
     "metadata": {},
     "output_type": "display_data"
    }
   ],
   "source": [
    "plt.plot(wave_point_420)"
   ],
   "metadata": {
    "collapsed": false
   }
  },
  {
   "cell_type": "code",
   "execution_count": 77,
   "outputs": [
    {
     "data": {
      "text/plain": "[<matplotlib.lines.Line2D at 0x21c9ba70dc0>]"
     },
     "execution_count": 77,
     "metadata": {},
     "output_type": "execute_result"
    },
    {
     "data": {
      "text/plain": "<Figure size 640x480 with 1 Axes>",
      "image/png": "[encoded data removed]"
     },
     "metadata": {},
     "output_type": "display_data"
    }
   ],
   "source": [
    "plt.plot(wave_point_1013)"
   ],
   "metadata": {
    "collapsed": false
   }
  },
  {
   "cell_type": "code",
   "execution_count": 81,
   "outputs": [
    {
     "name": "stdout",
     "output_type": "stream",
     "text": [
      "[ 1  2  3  3  5  1  6  2  7  1  8 23 12  1 11  2]\n"
     ]
    }
   ],
   "source": [
    "a = np.array([1, 3, 5, 6, 7, 8, 12, 11])\n",
    "b = np.array([2, 3, 1, 2, 1, 23, 1, 2])\n",
    "\n",
    "# then we insert wave_point_1013 into wave_point_420 to construct wave_point\n",
    "idx = tuple(range(1, 8 + 1))\n",
    "wave_point = np.insert(a, idx, b)\n",
    "print(wave_point)"
   ],
   "metadata": {
    "collapsed": false
   }
  },
  {
   "cell_type": "code",
   "execution_count": 88,
   "outputs": [
    {
     "data": {
      "text/plain": "6250.0"
     },
     "execution_count": 88,
     "metadata": {},
     "output_type": "execute_result"
    }
   ],
   "source": [
    "MEGA(1250) * 5 * 10 ** -6"
   ],
   "metadata": {
    "collapsed": false
   }
  },
  {
   "cell_type": "code",
   "execution_count": 89,
   "outputs": [],
   "source": [
    "CHANNEL0 = 0x00000001\n",
    "CHANNEL1 = 0x00000002"
   ],
   "metadata": {
    "collapsed": false
   }
  },
  {
   "cell_type": "code",
   "execution_count": 90,
   "outputs": [
    {
     "data": {
      "text/plain": "3"
     },
     "execution_count": 90,
     "metadata": {},
     "output_type": "execute_result"
    }
   ],
   "source": [
    "(CHANNEL0 | CHANNEL1)"
   ],
   "metadata": {
    "collapsed": false
   }
  },
  {
   "cell_type": "code",
   "execution_count": 93,
   "outputs": [
    {
     "data": {
      "text/plain": "26.2144"
     },
     "execution_count": 93,
     "metadata": {},
     "output_type": "execute_result"
    }
   ],
   "source": [
    "1024 * 64 / MEGA(1250) * 10 ** 6 / 2"
   ],
   "metadata": {
    "collapsed": false
   }
  },
  {
   "cell_type": "code",
   "execution_count": 2,
   "outputs": [
    {
     "name": "stdout",
     "output_type": "stream",
     "text": [
      "[10.         11.11111111 12.22222222 13.33333333 14.44444444 15.55555556\n",
      " 16.66666667 17.77777778 18.88888889 20.        ] [0 2 4 6 8]\n",
      "[10.         12.22222222 14.44444444 16.66666667 18.88888889]\n"
     ]
    }
   ],
   "source": [
    "a = np.linspace(10, 20, 10)\n",
    "b = np.arange(0, len(a), 2)\n",
    "print(a, b)\n",
    "print(a[b])"
   ],
   "metadata": {
    "collapsed": false
   }
  },
  {
   "cell_type": "code",
   "execution_count": 11,
   "outputs": [],
   "source": [
    "file = open(\"../initialize/test.txt\", 'w')\n",
    "file.write(\"nihao\\n\")\n",
    "file.write(\"nihao\\n\")\n",
    "file.close()"
   ],
   "metadata": {
    "collapsed": false
   }
  },
  {
   "cell_type": "code",
   "execution_count": 37,
   "outputs": [
    {
     "name": "stdout",
     "output_type": "stream",
     "text": [
      "['clock_frequency', '0', 'QComboBox', '\\n']\n"
     ]
    }
   ],
   "source": [
    "file = open(\"../initialize/initial_config.txt\")\n",
    "\n",
    "line = file.readline()\n",
    "x = line.split(' ')\n",
    "object_name = x[0]\n",
    "object_value = x[1]\n",
    "object_type = x[2]\n",
    "\n",
    "print(line.split(' '))\n",
    "# for line in file.readlines():\n",
    "#     print(line)\n",
    "\n",
    "file.close()"
   ],
   "metadata": {
    "collapsed": false
   }
  },
  {
   "cell_type": "code",
   "execution_count": 48,
   "outputs": [
    {
     "name": "stdout",
     "output_type": "stream",
     "text": [
      "<class 'ctypes.c_longlong'>\n",
      "<class 'int'>\n"
     ]
    }
   ],
   "source": [
    "a=int64(32)\n",
    "print(type(a))\n",
    "print(type(a.value))"
   ],
   "metadata": {
    "collapsed": false
   }
  },
  {
   "cell_type": "code",
   "execution_count": 40,
   "outputs": [
    {
     "data": {
      "text/plain": "64"
     },
     "execution_count": 40,
     "metadata": {},
     "output_type": "execute_result"
    }
   ],
   "source": [
    "(32//32+1)*32"
   ],
   "metadata": {
    "collapsed": false
   }
  },
  {
   "cell_type": "code",
   "execution_count": 42,
   "outputs": [],
   "source": [
    "def mem_size_length(length_wave):\n",
    "    if length_wave % 32 == 0:\n",
    "        return length_wave\n",
    "    else:\n",
    "        return (length_wave // 32 + 1) * 32"
   ],
   "metadata": {
    "collapsed": false
   }
  },
  {
   "cell_type": "code",
   "execution_count": 46,
   "outputs": [
    {
     "data": {
      "text/plain": "96"
     },
     "execution_count": 46,
     "metadata": {},
     "output_type": "execute_result"
    }
   ],
   "source": [
    "mem_size_length(65)"
   ],
   "metadata": {
    "collapsed": false
   }
  },
  {
   "cell_type": "code",
   "execution_count": null,
   "outputs": [],
   "source": [],
   "metadata": {
    "collapsed": false
   }
  }
 ],
 "metadata": {
  "kernelspec": {
   "display_name": "Python 3",
   "language": "python",
   "name": "python3"
  },
  "language_info": {
   "codemirror_mode": {
    "name": "ipython",
    "version": 2
   },
   "file_extension": ".py",
   "mimetype": "text/x-python",
   "name": "python",
   "nbconvert_exporter": "python",
   "pygments_lexer": "ipython2",
   "version": "2.7.6"
  }
 },
 "nbformat": 4,
 "nbformat_minor": 0
}
